{
 "cells": [
  {
   "cell_type": "markdown",
   "metadata": {},
   "source": [
    "Ejercicio de programación Regresión Lineal"
   ]
  },
  {
   "cell_type": "code",
   "execution_count": 581,
   "metadata": {},
   "outputs": [
    {
     "name": "stdout",
     "output_type": "stream",
     "text": [
      "Requirement already satisfied: scikit-learn in c:\\users\\cesar\\appdata\\local\\programs\\python\\python312\\lib\\site-packages (1.5.1)\n",
      "Requirement already satisfied: numpy>=1.19.5 in c:\\users\\cesar\\appdata\\local\\programs\\python\\python312\\lib\\site-packages (from scikit-learn) (2.0.1)\n",
      "Requirement already satisfied: scipy>=1.6.0 in c:\\users\\cesar\\appdata\\local\\programs\\python\\python312\\lib\\site-packages (from scikit-learn) (1.14.0)\n",
      "Requirement already satisfied: joblib>=1.2.0 in c:\\users\\cesar\\appdata\\local\\programs\\python\\python312\\lib\\site-packages (from scikit-learn) (1.4.2)\n",
      "Requirement already satisfied: threadpoolctl>=3.1.0 in c:\\users\\cesar\\appdata\\local\\programs\\python\\python312\\lib\\site-packages (from scikit-learn) (3.5.0)\n",
      "Note: you may need to restart the kernel to use updated packages.\n"
     ]
    },
    {
     "name": "stderr",
     "output_type": "stream",
     "text": [
      "\n",
      "[notice] A new release of pip is available: 24.0 -> 24.2\n",
      "[notice] To update, run: python.exe -m pip install --upgrade pip\n"
     ]
    }
   ],
   "source": [
    "# Computacion vectorial y cientifica para python\n",
    "import numpy as np\n",
    "\n",
    "# Librerias para graficación (trazado de gráfivos)\n",
    "from matplotlib import pyplot\n",
    "from mpl_toolkits.mplot3d import Axes3D\n",
    "\n",
    "# llama a maltplotlib a embeber gráficas dentro de los cuadernillos\n",
    "%matplotlib inline\n",
    "\n",
    "# uso de pandas para la lectura de archivos (dataset)\n",
    "import pandas as pd\n",
    "%pip install scikit-learn\n",
    "from sklearn.preprocessing import LabelEncoder"
   ]
  },
  {
   "cell_type": "markdown",
   "metadata": {},
   "source": [
    "1 Regresión lineal con una variable\n",
    "Donde el dataset tiene m = 21613; n = 21\n",
    "m = datos (filas)\n",
    "n = columnas\n",
    "\n",
    "Donde el dataset se basa en obtener un precio de una casa en funciona a las caracteristicas de la misma \"baños, metros cuadrados por departamento, metros cuadrados por terreno, etc \"\n",
    "\n",
    "Con dichos datos se puede calcular el precio de una casa en base a los metros cuadrados del terreno (Solo se tomara esos datos de dicho dataset) de la siguiente manera:"
   ]
  },
  {
   "cell_type": "code",
   "execution_count": 582,
   "metadata": {},
   "outputs": [],
   "source": [
    "#Cargado de dataset\n",
    "data = pd.read_csv('./kc_house_data.csv')"
   ]
  },
  {
   "cell_type": "code",
   "execution_count": 583,
   "metadata": {},
   "outputs": [
    {
     "name": "stdout",
     "output_type": "stream",
     "text": [
      "               id             date     price  bedrooms  bathrooms  \\\n",
      "0      7129300520  20141013T000000  221900.0         3       1.00   \n",
      "1      6414100192  20141209T000000  538000.0         3       2.25   \n",
      "2      5631500400  20150225T000000  180000.0         2       1.00   \n",
      "3      2487200875  20141209T000000  604000.0         4       3.00   \n",
      "4      1954400510  20150218T000000  510000.0         3       2.00   \n",
      "...           ...              ...       ...       ...        ...   \n",
      "21608   263000018  20140521T000000  360000.0         3       2.50   \n",
      "21609  6600060120  20150223T000000  400000.0         4       2.50   \n",
      "21610  1523300141  20140623T000000  402101.0         2       0.75   \n",
      "21611   291310100  20150116T000000  400000.0         3       2.50   \n",
      "21612  1523300157  20141015T000000  325000.0         2       0.75   \n",
      "\n",
      "       sqft_living  sqft_lot  floors  waterfront  view  ...  grade  \\\n",
      "0             1180      5650     1.0           0     0  ...      7   \n",
      "1             2570      7242     2.0           0     0  ...      7   \n",
      "2              770     10000     1.0           0     0  ...      6   \n",
      "3             1960      5000     1.0           0     0  ...      7   \n",
      "4             1680      8080     1.0           0     0  ...      8   \n",
      "...            ...       ...     ...         ...   ...  ...    ...   \n",
      "21608         1530      1131     3.0           0     0  ...      8   \n",
      "21609         2310      5813     2.0           0     0  ...      8   \n",
      "21610         1020      1350     2.0           0     0  ...      7   \n",
      "21611         1600      2388     2.0           0     0  ...      8   \n",
      "21612         1020      1076     2.0           0     0  ...      7   \n",
      "\n",
      "       sqft_above  sqft_basement  yr_built  yr_renovated  zipcode      lat  \\\n",
      "0            1180              0      1955             0    98178  47.5112   \n",
      "1            2170            400      1951          1991    98125  47.7210   \n",
      "2             770              0      1933             0    98028  47.7379   \n",
      "3            1050            910      1965             0    98136  47.5208   \n",
      "4            1680              0      1987             0    98074  47.6168   \n",
      "...           ...            ...       ...           ...      ...      ...   \n",
      "21608        1530              0      2009             0    98103  47.6993   \n",
      "21609        2310              0      2014             0    98146  47.5107   \n",
      "21610        1020              0      2009             0    98144  47.5944   \n",
      "21611        1600              0      2004             0    98027  47.5345   \n",
      "21612        1020              0      2008             0    98144  47.5941   \n",
      "\n",
      "          long  sqft_living15  sqft_lot15  \n",
      "0     -122.257           1340        5650  \n",
      "1     -122.319           1690        7639  \n",
      "2     -122.233           2720        8062  \n",
      "3     -122.393           1360        5000  \n",
      "4     -122.045           1800        7503  \n",
      "...        ...            ...         ...  \n",
      "21608 -122.346           1530        1509  \n",
      "21609 -122.362           1830        7200  \n",
      "21610 -122.299           1020        2007  \n",
      "21611 -122.069           1410        1287  \n",
      "21612 -122.299           1020        1357  \n",
      "\n",
      "[21613 rows x 21 columns]\n"
     ]
    }
   ],
   "source": [
    "print(data)"
   ]
  },
  {
   "cell_type": "code",
   "execution_count": 584,
   "metadata": {},
   "outputs": [
    {
     "data": {
      "text/html": [
       "<div>\n",
       "<style scoped>\n",
       "    .dataframe tbody tr th:only-of-type {\n",
       "        vertical-align: middle;\n",
       "    }\n",
       "\n",
       "    .dataframe tbody tr th {\n",
       "        vertical-align: top;\n",
       "    }\n",
       "\n",
       "    .dataframe thead th {\n",
       "        text-align: right;\n",
       "    }\n",
       "</style>\n",
       "<table border=\"1\" class=\"dataframe\">\n",
       "  <thead>\n",
       "    <tr style=\"text-align: right;\">\n",
       "      <th></th>\n",
       "      <th>id</th>\n",
       "      <th>date</th>\n",
       "      <th>price</th>\n",
       "      <th>bedrooms</th>\n",
       "      <th>bathrooms</th>\n",
       "      <th>sqft_living</th>\n",
       "      <th>sqft_lot</th>\n",
       "      <th>floors</th>\n",
       "      <th>waterfront</th>\n",
       "      <th>view</th>\n",
       "      <th>...</th>\n",
       "      <th>grade</th>\n",
       "      <th>sqft_above</th>\n",
       "      <th>sqft_basement</th>\n",
       "      <th>yr_built</th>\n",
       "      <th>yr_renovated</th>\n",
       "      <th>zipcode</th>\n",
       "      <th>lat</th>\n",
       "      <th>long</th>\n",
       "      <th>sqft_living15</th>\n",
       "      <th>sqft_lot15</th>\n",
       "    </tr>\n",
       "  </thead>\n",
       "  <tbody>\n",
       "    <tr>\n",
       "      <th>0</th>\n",
       "      <td>7129300520</td>\n",
       "      <td>20141013T000000</td>\n",
       "      <td>221900.0</td>\n",
       "      <td>3</td>\n",
       "      <td>1.00</td>\n",
       "      <td>1180</td>\n",
       "      <td>5650</td>\n",
       "      <td>1.0</td>\n",
       "      <td>0</td>\n",
       "      <td>0</td>\n",
       "      <td>...</td>\n",
       "      <td>7</td>\n",
       "      <td>1180</td>\n",
       "      <td>0</td>\n",
       "      <td>1955</td>\n",
       "      <td>0</td>\n",
       "      <td>98178</td>\n",
       "      <td>47.5112</td>\n",
       "      <td>-122.257</td>\n",
       "      <td>1340</td>\n",
       "      <td>5650</td>\n",
       "    </tr>\n",
       "    <tr>\n",
       "      <th>1</th>\n",
       "      <td>6414100192</td>\n",
       "      <td>20141209T000000</td>\n",
       "      <td>538000.0</td>\n",
       "      <td>3</td>\n",
       "      <td>2.25</td>\n",
       "      <td>2570</td>\n",
       "      <td>7242</td>\n",
       "      <td>2.0</td>\n",
       "      <td>0</td>\n",
       "      <td>0</td>\n",
       "      <td>...</td>\n",
       "      <td>7</td>\n",
       "      <td>2170</td>\n",
       "      <td>400</td>\n",
       "      <td>1951</td>\n",
       "      <td>1991</td>\n",
       "      <td>98125</td>\n",
       "      <td>47.7210</td>\n",
       "      <td>-122.319</td>\n",
       "      <td>1690</td>\n",
       "      <td>7639</td>\n",
       "    </tr>\n",
       "    <tr>\n",
       "      <th>2</th>\n",
       "      <td>5631500400</td>\n",
       "      <td>20150225T000000</td>\n",
       "      <td>180000.0</td>\n",
       "      <td>2</td>\n",
       "      <td>1.00</td>\n",
       "      <td>770</td>\n",
       "      <td>10000</td>\n",
       "      <td>1.0</td>\n",
       "      <td>0</td>\n",
       "      <td>0</td>\n",
       "      <td>...</td>\n",
       "      <td>6</td>\n",
       "      <td>770</td>\n",
       "      <td>0</td>\n",
       "      <td>1933</td>\n",
       "      <td>0</td>\n",
       "      <td>98028</td>\n",
       "      <td>47.7379</td>\n",
       "      <td>-122.233</td>\n",
       "      <td>2720</td>\n",
       "      <td>8062</td>\n",
       "    </tr>\n",
       "    <tr>\n",
       "      <th>3</th>\n",
       "      <td>2487200875</td>\n",
       "      <td>20141209T000000</td>\n",
       "      <td>604000.0</td>\n",
       "      <td>4</td>\n",
       "      <td>3.00</td>\n",
       "      <td>1960</td>\n",
       "      <td>5000</td>\n",
       "      <td>1.0</td>\n",
       "      <td>0</td>\n",
       "      <td>0</td>\n",
       "      <td>...</td>\n",
       "      <td>7</td>\n",
       "      <td>1050</td>\n",
       "      <td>910</td>\n",
       "      <td>1965</td>\n",
       "      <td>0</td>\n",
       "      <td>98136</td>\n",
       "      <td>47.5208</td>\n",
       "      <td>-122.393</td>\n",
       "      <td>1360</td>\n",
       "      <td>5000</td>\n",
       "    </tr>\n",
       "    <tr>\n",
       "      <th>4</th>\n",
       "      <td>1954400510</td>\n",
       "      <td>20150218T000000</td>\n",
       "      <td>510000.0</td>\n",
       "      <td>3</td>\n",
       "      <td>2.00</td>\n",
       "      <td>1680</td>\n",
       "      <td>8080</td>\n",
       "      <td>1.0</td>\n",
       "      <td>0</td>\n",
       "      <td>0</td>\n",
       "      <td>...</td>\n",
       "      <td>8</td>\n",
       "      <td>1680</td>\n",
       "      <td>0</td>\n",
       "      <td>1987</td>\n",
       "      <td>0</td>\n",
       "      <td>98074</td>\n",
       "      <td>47.6168</td>\n",
       "      <td>-122.045</td>\n",
       "      <td>1800</td>\n",
       "      <td>7503</td>\n",
       "    </tr>\n",
       "  </tbody>\n",
       "</table>\n",
       "<p>5 rows × 21 columns</p>\n",
       "</div>"
      ],
      "text/plain": [
       "           id             date     price  bedrooms  bathrooms  sqft_living  \\\n",
       "0  7129300520  20141013T000000  221900.0         3       1.00         1180   \n",
       "1  6414100192  20141209T000000  538000.0         3       2.25         2570   \n",
       "2  5631500400  20150225T000000  180000.0         2       1.00          770   \n",
       "3  2487200875  20141209T000000  604000.0         4       3.00         1960   \n",
       "4  1954400510  20150218T000000  510000.0         3       2.00         1680   \n",
       "\n",
       "   sqft_lot  floors  waterfront  view  ...  grade  sqft_above  sqft_basement  \\\n",
       "0      5650     1.0           0     0  ...      7        1180              0   \n",
       "1      7242     2.0           0     0  ...      7        2170            400   \n",
       "2     10000     1.0           0     0  ...      6         770              0   \n",
       "3      5000     1.0           0     0  ...      7        1050            910   \n",
       "4      8080     1.0           0     0  ...      8        1680              0   \n",
       "\n",
       "   yr_built  yr_renovated  zipcode      lat     long  sqft_living15  \\\n",
       "0      1955             0    98178  47.5112 -122.257           1340   \n",
       "1      1951          1991    98125  47.7210 -122.319           1690   \n",
       "2      1933             0    98028  47.7379 -122.233           2720   \n",
       "3      1965             0    98136  47.5208 -122.393           1360   \n",
       "4      1987             0    98074  47.6168 -122.045           1800   \n",
       "\n",
       "   sqft_lot15  \n",
       "0        5650  \n",
       "1        7639  \n",
       "2        8062  \n",
       "3        5000  \n",
       "4        7503  \n",
       "\n",
       "[5 rows x 21 columns]"
      ]
     },
     "execution_count": 584,
     "metadata": {},
     "output_type": "execute_result"
    }
   ],
   "source": [
    "data.head()"
   ]
  },
  {
   "cell_type": "code",
   "execution_count": 585,
   "metadata": {},
   "outputs": [],
   "source": [
    "# eliminar las columnas que no son relevantes como id, zipcode, date\n",
    "data = data.drop(['id', 'zipcode', 'date'], axis=1)"
   ]
  },
  {
   "cell_type": "code",
   "execution_count": 586,
   "metadata": {},
   "outputs": [
    {
     "name": "stdout",
     "output_type": "stream",
     "text": [
      "<class 'pandas.core.frame.DataFrame'>\n",
      "RangeIndex: 21613 entries, 0 to 21612\n",
      "Data columns (total 18 columns):\n",
      " #   Column         Non-Null Count  Dtype  \n",
      "---  ------         --------------  -----  \n",
      " 0   price          21613 non-null  float64\n",
      " 1   bedrooms       21613 non-null  int64  \n",
      " 2   bathrooms      21613 non-null  float64\n",
      " 3   sqft_living    21613 non-null  int64  \n",
      " 4   sqft_lot       21613 non-null  int64  \n",
      " 5   floors         21613 non-null  float64\n",
      " 6   waterfront     21613 non-null  int64  \n",
      " 7   view           21613 non-null  int64  \n",
      " 8   condition      21613 non-null  int64  \n",
      " 9   grade          21613 non-null  int64  \n",
      " 10  sqft_above     21613 non-null  int64  \n",
      " 11  sqft_basement  21613 non-null  int64  \n",
      " 12  yr_built       21613 non-null  int64  \n",
      " 13  yr_renovated   21613 non-null  int64  \n",
      " 14  lat            21613 non-null  float64\n",
      " 15  long           21613 non-null  float64\n",
      " 16  sqft_living15  21613 non-null  int64  \n",
      " 17  sqft_lot15     21613 non-null  int64  \n",
      "dtypes: float64(5), int64(13)\n",
      "memory usage: 3.0 MB\n"
     ]
    }
   ],
   "source": [
    "data.info()"
   ]
  },
  {
   "cell_type": "code",
   "execution_count": 587,
   "metadata": {},
   "outputs": [],
   "source": [
    "# Lectura de datos\n",
    "X = data.iloc[:, 1:17]\n",
    "y = data.iloc[: , 0]\n",
    "\n",
    "m = y.size"
   ]
  },
  {
   "cell_type": "code",
   "execution_count": 588,
   "metadata": {},
   "outputs": [
    {
     "name": "stdout",
     "output_type": "stream",
     "text": [
      "       bedrooms  bathrooms  sqft_living  sqft_lot  floors  waterfront  view  \\\n",
      "0             3       1.00         1180      5650     1.0           0     0   \n",
      "1             3       2.25         2570      7242     2.0           0     0   \n",
      "2             2       1.00          770     10000     1.0           0     0   \n",
      "3             4       3.00         1960      5000     1.0           0     0   \n",
      "4             3       2.00         1680      8080     1.0           0     0   \n",
      "...         ...        ...          ...       ...     ...         ...   ...   \n",
      "21608         3       2.50         1530      1131     3.0           0     0   \n",
      "21609         4       2.50         2310      5813     2.0           0     0   \n",
      "21610         2       0.75         1020      1350     2.0           0     0   \n",
      "21611         3       2.50         1600      2388     2.0           0     0   \n",
      "21612         2       0.75         1020      1076     2.0           0     0   \n",
      "\n",
      "       condition  grade  sqft_above  sqft_basement  yr_built  yr_renovated  \\\n",
      "0              3      7        1180              0      1955             0   \n",
      "1              3      7        2170            400      1951          1991   \n",
      "2              3      6         770              0      1933             0   \n",
      "3              5      7        1050            910      1965             0   \n",
      "4              3      8        1680              0      1987             0   \n",
      "...          ...    ...         ...            ...       ...           ...   \n",
      "21608          3      8        1530              0      2009             0   \n",
      "21609          3      8        2310              0      2014             0   \n",
      "21610          3      7        1020              0      2009             0   \n",
      "21611          3      8        1600              0      2004             0   \n",
      "21612          3      7        1020              0      2008             0   \n",
      "\n",
      "           lat     long  sqft_living15  \n",
      "0      47.5112 -122.257           1340  \n",
      "1      47.7210 -122.319           1690  \n",
      "2      47.7379 -122.233           2720  \n",
      "3      47.5208 -122.393           1360  \n",
      "4      47.6168 -122.045           1800  \n",
      "...        ...      ...            ...  \n",
      "21608  47.6993 -122.346           1530  \n",
      "21609  47.5107 -122.362           1830  \n",
      "21610  47.5944 -122.299           1020  \n",
      "21611  47.5345 -122.069           1410  \n",
      "21612  47.5941 -122.299           1020  \n",
      "\n",
      "[21613 rows x 16 columns]\n"
     ]
    }
   ],
   "source": [
    "print(X)"
   ]
  },
  {
   "cell_type": "code",
   "execution_count": 589,
   "metadata": {},
   "outputs": [
    {
     "name": "stdout",
     "output_type": "stream",
     "text": [
      "0        221900.0\n",
      "1        538000.0\n",
      "2        180000.0\n",
      "3        604000.0\n",
      "4        510000.0\n",
      "           ...   \n",
      "21608    360000.0\n",
      "21609    400000.0\n",
      "21610    402101.0\n",
      "21611    400000.0\n",
      "21612    325000.0\n",
      "Name: price, Length: 21613, dtype: float64\n"
     ]
    }
   ],
   "source": [
    "print(y)"
   ]
  },
  {
   "cell_type": "markdown",
   "metadata": {},
   "source": [
    "Trazar los datos"
   ]
  },
  {
   "cell_type": "code",
   "execution_count": 590,
   "metadata": {},
   "outputs": [
    {
     "data": {
      "image/png": "[encoded data removed]",
      "text/plain": [
       "<Figure size 640x480 with 1 Axes>"
      ]
     },
     "metadata": {},
     "output_type": "display_data"
    }
   ],
   "source": [
    "def plotData(x, y):\n",
    "    #Grafica los puntos x e y en una figura nueva.\n",
    "\n",
    "    fig = pyplot.figure()  # abre una nueva figura\n",
    "\n",
    "    pyplot.plot(x, y, 'ro', ms=10, mec='k')\n",
    "    pyplot.ylabel('Precio en dolares')\n",
    "    pyplot.xlabel('caracteristicas de la casa')\n",
    "  \n",
    "plotData(X, y)"
   ]
  },
  {
   "cell_type": "markdown",
   "metadata": {},
   "source": [
    "1.2 Descenso por el gradiente\n",
    "1.2.1 Ecuaciones de actualización\n",
    "El objetivo de la regresion lineal es minimizar la funcion de costo\n",
    "\n",
    "J(θ)=12m∑i=1m(hθ(x(i))−y(i))2 \n",
    "\n",
    "donde la hipotesis  hθ(x)  esta dada por el modelo lineal\n",
    "hθ(x)=θTx=θ0+θ1x1 \n",
    "\n",
    "Los parametros del modelo son los valores  θj . Estos son los valores que se ajustaran al costo minimo  J(θ) . Un camino para lograr esto es usar el algoritmo por lotes del descenso por el gradiente. En el descenso por el gradiente por lotes, cada iteracion ejecuta una actualizacion\n",
    "θj=θj−α1m∑i=1m(hθ(x(i))−y(i))x(i)jactualizacion simultanea θj for all j \n",
    "\n",
    "Con cada paso del descenso por el gradiente, los parametros  θj  son mas cercanos a los valores optimos que permitiran lograr el costo mas bajo J( θ ).\n",
    "\n",
    "1.2.2 Implementación"
   ]
  },
  {
   "cell_type": "code",
   "execution_count": 591,
   "metadata": {},
   "outputs": [],
   "source": [
    "# Normalizar las columnas de X\n",
    "def featureNormalize(X):\n",
    "    X_norm = X.copy()\n",
    "    mu = np.mean(X, axis=0)\n",
    "    sigma = np.std(X, axis=0)\n",
    "    X_norm = (X - mu) / sigma\n",
    "    return X_norm, mu, sigma\n",
    "\n",
    "# Normalizar X\n",
    "X_norm, mu, sigma = featureNormalize(X)"
   ]
  },
  {
   "cell_type": "code",
   "execution_count": 592,
   "metadata": {},
   "outputs": [],
   "source": [
    "# Agrega una columna de unos a X. La funcion stack de numpy une matrices a lo largo de un eje dado.\n",
    "# El primer eje (eje = 0) se refiere a filas (ejemplos de entrenamiento)\n",
    "# y el segundo eje (eje = 1) se refiere a columnas (características).\n",
    "\n",
    "X = np.concatenate([np.ones((m, 1)), X_norm], axis=1)"
   ]
  },
  {
   "cell_type": "code",
   "execution_count": 593,
   "metadata": {},
   "outputs": [
    {
     "name": "stdout",
     "output_type": "stream",
     "text": [
      "[[ 1.         -0.39873715 -1.44746357 ... -0.35257175 -0.30607896\n",
      "  -0.9433552 ]\n",
      " [ 1.         -0.39873715  0.1756067  ...  1.16156823 -0.74634143\n",
      "  -0.43268619]\n",
      " [ 1.         -1.47395936 -1.44746357 ...  1.28353661 -0.13565477\n",
      "   1.07013975]\n",
      " ...\n",
      " [ 1.         -1.47395936 -1.77207762 ...  0.24788796 -0.60432128\n",
      "  -1.41025258]\n",
      " [ 1.         -0.39873715  0.50022075 ... -0.18441416  1.02891048\n",
      "  -0.8412214 ]\n",
      " [ 1.         -1.47395936 -1.77207762 ...  0.24572284 -0.60432128\n",
      "  -1.41025258]]\n"
     ]
    }
   ],
   "source": [
    "print(X)"
   ]
  },
  {
   "cell_type": "markdown",
   "metadata": {},
   "source": [
    "1.2.3 Cálculo del costo  J(θ)"
   ]
  },
  {
   "cell_type": "code",
   "execution_count": 594,
   "metadata": {},
   "outputs": [],
   "source": [
    "def computeCost(X, y, theta):\n",
    "    # inicializa algunos valores importantes\n",
    "    m = y.size  # numero de ejemplos de entrenamiento\n",
    "\n",
    "    J = 0\n",
    "    # h = np.dot(X, theta)\n",
    "    J = (1/(2 * m)) * np.sum(np.square(np.dot(X, theta) - y))\n",
    "    return J"
   ]
  },
  {
   "cell_type": "markdown",
   "metadata": {},
   "source": [
    "1.2.4 Descenso por el gradiente\n",
    "El costo  J(θ)  esta parametrizado por el vector  θ , no  X  y  y . Donde hay que minimizar el valor de  J(θ)  cambiando los valores del vector  θ . Una buena manera de verificar si el descenso por el gradiente esta trabajando correctamente es ver los valores de  J(θ)  y verificar si estos decresen en cada paso.\n",
    "\n",
    "**Vectores y matrices en `numpy`** - Importantes notas para implementación Un vector en `numpy` es un array de una diemension, por ejemplo `np.array([1, 2, 3])` es un vector. Una matriz en `numpy` is un arreglo de dos dimensiones, por ejemplo `np.array([[1, 2, 3], [4, 5, 6]])`. Sin embargo, lo siguiente todavía se considera una matriz `np.array ([[1, 2, 3]])` ya que tiene dos dimensiones, incluso si tiene una forma de 1x3 (que parece un vector)."
   ]
  },
  {
   "cell_type": "code",
   "execution_count": 595,
   "metadata": {},
   "outputs": [],
   "source": [
    "# Descenso por el gradiente\n",
    "def gradientDescent(X, y, theta, alpha, num_iters):\n",
    "    m = y.shape[0]\n",
    "    theta = theta.copy()\n",
    "    J_history = []\n",
    "    for i in range(num_iters):\n",
    "        theta = theta - (alpha / m) * (np.dot(X, theta) - y).dot(X)\n",
    "        J_history.append(computeCost(X, y, theta))\n",
    "    return theta, J_history"
   ]
  },
  {
   "cell_type": "markdown",
   "metadata": {},
   "source": [
    "Se inicializan los parametros  θ  con 0 y la taza de aprendizaje  α  con 0.01."
   ]
  },
  {
   "cell_type": "code",
   "execution_count": 596,
   "metadata": {},
   "outputs": [],
   "source": [
    "# inicializa los parametros de ajuste\n",
    "theta = np.zeros(X_norm.shape[1])\n",
    "\n",
    "# configuraciones para el descenso por el gradiente\n",
    "# Configuraciones para el descenso por el gradiente\n",
    "iterations = 5000\n",
    "alpha = 0.001  # Reducir la tasa de aprendizaje\n",
    "\n",
    "theta, J_history = gradientDescent(X_norm, y, theta, alpha, iterations)\n"
   ]
  },
  {
   "cell_type": "code",
   "execution_count": 597,
   "metadata": {},
   "outputs": [
    {
     "name": "stdout",
     "output_type": "stream",
     "text": [
      "Valores de theta: bedrooms         -26991.106308\n",
      "bathrooms         29929.829475\n",
      "sqft_living       76771.587073\n",
      "sqft_lot              4.348506\n",
      "floors             4354.960270\n",
      "waterfront        49928.304752\n",
      "view              39334.283841\n",
      "condition         22677.064433\n",
      "grade            100570.368938\n",
      "sqft_above        71197.309832\n",
      "sqft_basement     26102.500775\n",
      "yr_built         -62693.441008\n",
      "yr_renovated      11830.965023\n",
      "lat               79996.828643\n",
      "long             -22429.893707\n",
      "sqft_living15     34387.540022\n",
      "Name: price, dtype: float64\n",
      "Historial de costos: [np.float64(166483132072.30994), np.float64(166483089391.88174), np.float64(166483046735.8015), np.float64(166483004104.05252), np.float64(166482961496.6182), np.float64(166482918913.48184), np.float64(166482876354.62683), np.float64(166482833820.03656), np.float64(166482791309.6945), np.float64(166482748823.58398)]\n"
     ]
    }
   ],
   "source": [
    "# Verificar los valores de theta y el historial de costos\n",
    "print(\"Valores de theta:\", theta)\n",
    "print(\"Historial de costos:\", J_history[-10:])  # Mostrar los últimos 10 valores del historial de costos"
   ]
  },
  {
   "cell_type": "markdown",
   "metadata": {},
   "source": [
    "Se utilizan los parametros finales para grafical la linea."
   ]
  },
  {
   "cell_type": "code",
   "execution_count": 602,
   "metadata": {},
   "outputs": [
    {
     "ename": "AttributeError",
     "evalue": "'numpy.ndarray' object has no attribute 'iloc'",
     "output_type": "error",
     "traceback": [
      "\u001b[1;31m---------------------------------------------------------------------------\u001b[0m",
      "\u001b[1;31mAttributeError\u001b[0m                            Traceback (most recent call last)",
      "Cell \u001b[1;32mIn[602], line 2\u001b[0m\n\u001b[0;32m      1\u001b[0m \u001b[38;5;66;03m# grafica la linea de ajuste sobre los datos\u001b[39;00m\n\u001b[1;32m----> 2\u001b[0m plotData(\u001b[43mX\u001b[49m\u001b[38;5;241;43m.\u001b[39;49m\u001b[43miloc\u001b[49m[:, \u001b[38;5;241m0\u001b[39m], y)\n\u001b[0;32m      3\u001b[0m pyplot\u001b[38;5;241m.\u001b[39mplot(X\u001b[38;5;241m.\u001b[39miloc[:, \u001b[38;5;241m0\u001b[39m], np\u001b[38;5;241m.\u001b[39mdot(X_norm, theta), \u001b[38;5;124m'\u001b[39m\u001b[38;5;124m-\u001b[39m\u001b[38;5;124m'\u001b[39m)\n\u001b[0;32m      4\u001b[0m pyplot\u001b[38;5;241m.\u001b[39mlegend([\u001b[38;5;124m'\u001b[39m\u001b[38;5;124mDatos de entrenamiento\u001b[39m\u001b[38;5;124m'\u001b[39m, \u001b[38;5;124m'\u001b[39m\u001b[38;5;124mRegresión lineal\u001b[39m\u001b[38;5;124m'\u001b[39m])\n",
      "\u001b[1;31mAttributeError\u001b[0m: 'numpy.ndarray' object has no attribute 'iloc'"
     ]
    }
   ],
   "source": [
    "# grafica la linea de ajuste sobre los datos\n",
    "plotData(X.iloc[:, 0], y)\n",
    "pyplot.plot(X.iloc[:, 0], np.dot(X_norm, theta), '-')\n",
    "pyplot.legend(['Datos de entrenamiento', 'Regresión lineal'])\n",
    "pyplot.show()"
   ]
  },
  {
   "cell_type": "markdown",
   "metadata": {},
   "source": [
    "Los valores finales de  θ  se utilizaran para realizar predicciones."
   ]
  },
  {
   "cell_type": "code",
   "execution_count": 603,
   "metadata": {},
   "outputs": [
    {
     "ename": "ValueError",
     "evalue": "shapes (18,) and (16,) not aligned: 18 (dim 0) != 16 (dim 0)",
     "output_type": "error",
     "traceback": [
      "\u001b[1;31m---------------------------------------------------------------------------\u001b[0m",
      "\u001b[1;31mValueError\u001b[0m                                Traceback (most recent call last)",
      "Cell \u001b[1;32mIn[603], line 2\u001b[0m\n\u001b[0;32m      1\u001b[0m \u001b[38;5;66;03m# Prediccion de precio de una casa con 1500 pies cuadrados\u001b[39;00m\n\u001b[1;32m----> 2\u001b[0m predict1 \u001b[38;5;241m=\u001b[39m \u001b[43mnp\u001b[49m\u001b[38;5;241;43m.\u001b[39;49m\u001b[43mdot\u001b[49m\u001b[43m(\u001b[49m\u001b[43m[\u001b[49m\u001b[38;5;241;43m1\u001b[39;49m\u001b[43m,\u001b[49m\u001b[43m \u001b[49m\u001b[38;5;241;43m5\u001b[39;49m\u001b[43m,\u001b[49m\u001b[43m \u001b[49m\u001b[38;5;241;43m3\u001b[39;49m\u001b[43m,\u001b[49m\u001b[43m \u001b[49m\u001b[38;5;241;43m2\u001b[39;49m\u001b[43m,\u001b[49m\u001b[43m \u001b[49m\u001b[38;5;241;43m1500\u001b[39;49m\u001b[43m,\u001b[49m\u001b[43m \u001b[49m\u001b[38;5;241;43m5000\u001b[39;49m\u001b[43m,\u001b[49m\u001b[43m \u001b[49m\u001b[38;5;241;43m1\u001b[39;49m\u001b[43m,\u001b[49m\u001b[43m \u001b[49m\u001b[38;5;241;43m1\u001b[39;49m\u001b[43m,\u001b[49m\u001b[43m \u001b[49m\u001b[38;5;241;43m3\u001b[39;49m\u001b[43m,\u001b[49m\u001b[43m \u001b[49m\u001b[38;5;241;43m7\u001b[39;49m\u001b[43m,\u001b[49m\u001b[43m \u001b[49m\u001b[38;5;241;43m1000\u001b[39;49m\u001b[43m,\u001b[49m\u001b[43m \u001b[49m\u001b[38;5;241;43m1000\u001b[39;49m\u001b[43m,\u001b[49m\u001b[43m \u001b[49m\u001b[38;5;241;43m1000\u001b[39;49m\u001b[43m,\u001b[49m\u001b[43m \u001b[49m\u001b[38;5;241;43m1000\u001b[39;49m\u001b[43m,\u001b[49m\u001b[43m \u001b[49m\u001b[38;5;241;43m1000\u001b[39;49m\u001b[43m,\u001b[49m\u001b[43m \u001b[49m\u001b[38;5;241;43m1000\u001b[39;49m\u001b[43m,\u001b[49m\u001b[43m \u001b[49m\u001b[38;5;241;43m1000\u001b[39;49m\u001b[43m,\u001b[49m\u001b[43m \u001b[49m\u001b[38;5;241;43m1000\u001b[39;49m\u001b[43m]\u001b[49m\u001b[43m,\u001b[49m\u001b[43m \u001b[49m\u001b[43mtheta\u001b[49m\u001b[43m)\u001b[49m\n\u001b[0;32m      3\u001b[0m \u001b[38;5;28mprint\u001b[39m(\u001b[38;5;124mf\u001b[39m\u001b[38;5;124m\"\u001b[39m\u001b[38;5;124mPara una casa de 1500 pies cuadrados, el modelo predice un precio de $\u001b[39m\u001b[38;5;132;01m{\u001b[39;00mpredict1\u001b[38;5;132;01m}\u001b[39;00m\u001b[38;5;124m\"\u001b[39m)\n",
      "\u001b[1;31mValueError\u001b[0m: shapes (18,) and (16,) not aligned: 18 (dim 0) != 16 (dim 0)"
     ]
    }
   ],
   "source": [
    "# Prediccion de precio de una casa con 1500 pies cuadrados\n",
    "# Recordar que la primera columna de X es de unos\n",
    "area = 1500\n",
    "bedrooms = 3\n",
    "area = (area - mu[0]) / sigma[0]\n",
    "bedrooms = (bedrooms - mu[1]) / sigma[1]\n",
    "price = np.dot([1, area, bedrooms], theta)\n",
    "print(\"El precio de una casa de 1500 pies cuadrados y 3 habitaciones es de\", price)\n",
    "\n",
    "# Prediccion de precio de una casa con 1500 pies cuadrados\n",
    "# Recordar que la primera columna de X es de unos\n",
    "area = 1500\n",
    "  "
   ]
  },
  {
   "cell_type": "markdown",
   "metadata": {},
   "source": [
    "1.4 Visualizar  J(θ) \n",
    "Para comprender mejor la función de costo  J(θ) , se graficará la funcion de costo en 2 dimenciones con los valores de  θ0  y  θ1 .\n",
    "\n",
    "El proposito de graficar el costo para observar como  J(θ)  varia con cambios en  θ0  y  θ1 . La función de costo  J(θ)  tiene forma de una cuenca con un minimo global. (Esto es mas facil observar en los contornos de una superficie 3D). El minimo es el punto optimo para  θ0  y  θ1 , en cada paso del descenso por el gradiente se mueve mas cerca a este punto."
   ]
  },
  {
   "cell_type": "code",
   "execution_count": null,
   "metadata": {},
   "outputs": [
    {
     "ename": "ValueError",
     "evalue": "shapes (21613,18) and (2,) not aligned: 18 (dim 1) != 2 (dim 0)",
     "output_type": "error",
     "traceback": [
      "\u001b[1;31m---------------------------------------------------------------------------\u001b[0m",
      "\u001b[1;31mValueError\u001b[0m                                Traceback (most recent call last)",
      "Cell \u001b[1;32mIn[551], line 11\u001b[0m\n\u001b[0;32m      9\u001b[0m \u001b[38;5;28;01mfor\u001b[39;00m i, theta0 \u001b[38;5;129;01min\u001b[39;00m \u001b[38;5;28menumerate\u001b[39m(theta0_vals):\n\u001b[0;32m     10\u001b[0m     \u001b[38;5;28;01mfor\u001b[39;00m j, theta1 \u001b[38;5;129;01min\u001b[39;00m \u001b[38;5;28menumerate\u001b[39m(theta1_vals):\n\u001b[1;32m---> 11\u001b[0m         J_vals[i, j] \u001b[38;5;241m=\u001b[39m \u001b[43mcomputeCost\u001b[49m\u001b[43m(\u001b[49m\u001b[43mX\u001b[49m\u001b[43m,\u001b[49m\u001b[43m \u001b[49m\u001b[43my\u001b[49m\u001b[43m,\u001b[49m\u001b[43m \u001b[49m\u001b[43m[\u001b[49m\u001b[43mtheta0\u001b[49m\u001b[43m,\u001b[49m\u001b[43m \u001b[49m\u001b[43mtheta1\u001b[49m\u001b[43m]\u001b[49m\u001b[43m)\u001b[49m\n\u001b[0;32m     13\u001b[0m \u001b[38;5;66;03m# Debido a la forma en que funcionan las cuadrículas en el comando surf,\u001b[39;00m\n\u001b[0;32m     14\u001b[0m \u001b[38;5;66;03m# se necesita transponer J_vals antes de llamar a surf, o de lo contrario los ejes se invertirán\u001b[39;00m\n\u001b[0;32m     15\u001b[0m J_vals \u001b[38;5;241m=\u001b[39m J_vals\u001b[38;5;241m.\u001b[39mT\n",
      "Cell \u001b[1;32mIn[540], line 7\u001b[0m, in \u001b[0;36mcomputeCost\u001b[1;34m(X, y, theta)\u001b[0m\n\u001b[0;32m      5\u001b[0m J \u001b[38;5;241m=\u001b[39m \u001b[38;5;241m0\u001b[39m\n\u001b[0;32m      6\u001b[0m \u001b[38;5;66;03m# h = np.dot(X, theta)\u001b[39;00m\n\u001b[1;32m----> 7\u001b[0m J \u001b[38;5;241m=\u001b[39m (\u001b[38;5;241m1\u001b[39m\u001b[38;5;241m/\u001b[39m(\u001b[38;5;241m2\u001b[39m \u001b[38;5;241m*\u001b[39m m)) \u001b[38;5;241m*\u001b[39m np\u001b[38;5;241m.\u001b[39msum(np\u001b[38;5;241m.\u001b[39msquare(\u001b[43mnp\u001b[49m\u001b[38;5;241;43m.\u001b[39;49m\u001b[43mdot\u001b[49m\u001b[43m(\u001b[49m\u001b[43mX\u001b[49m\u001b[43m,\u001b[49m\u001b[43m \u001b[49m\u001b[43mtheta\u001b[49m\u001b[43m)\u001b[49m \u001b[38;5;241m-\u001b[39m y))\n\u001b[0;32m      8\u001b[0m \u001b[38;5;28;01mreturn\u001b[39;00m J\n",
      "\u001b[1;31mValueError\u001b[0m: shapes (21613,18) and (2,) not aligned: 18 (dim 1) != 2 (dim 0)"
     ]
    }
   ],
   "source": [
    "# cuadrícula sobre la que se calcula J\n",
    "theta0_vals = np.linspace(-10, 10, 100)\n",
    "theta1_vals = np.linspace(-1, 4, 100)\n",
    "\n",
    "# inicializa J_vals con una matriz de 0's\n",
    "J_vals = np.zeros((theta0_vals.shape[0], theta1_vals.shape[0]))\n",
    "\n",
    "# Completar J_vals\n",
    "for i, theta0 in enumerate(theta0_vals):\n",
    "    for j, theta1 in enumerate(theta1_vals):\n",
    "        J_vals[i, j] = computeCost(X, y, [theta0, theta1])\n",
    "\n",
    "# Debido a la forma en que funcionan las cuadrículas en el comando surf,\n",
    "# se necesita transponer J_vals antes de llamar a surf, o de lo contrario los ejes se invertirán\n",
    "J_vals = J_vals.T\n",
    "\n",
    "# graficar la superficie\n",
    "fig = pyplot.figure(figsize=(4, 15))\n",
    "ax = fig.add_subplot(311, projection='3d')\n",
    "ax.plot_surface(theta0_vals, theta1_vals, J_vals, cmap='viridis')\n",
    "pyplot.xlabel('theta0')\n",
    "pyplot.ylabel('theta1')\n",
    "pyplot.title('Surface')\n",
    "\n",
    "# graficar contornos\n",
    "# Grafica J_vals como 15 contours spaciados logaritmicamente entre 0.01 y 100\n",
    "ax = pyplot.subplot(312)\n",
    "pyplot.contour(theta0_vals, theta1_vals, J_vals, linewidths=2, cmap='viridis', levels=np.logspace(-2, 3, 20))\n",
    "pyplot.xlabel('theta0')\n",
    "pyplot.ylabel('theta1')\n",
    "pyplot.plot(theta[0], theta[1], 'ro', ms=10, lw=2)\n",
    "pyplot.title('Contorno, mostrando el minimo')\n",
    "\n",
    "\n",
    "# Grafica la convergencia del costo\n",
    "ax = pyplot.subplot(313)\n",
    "pyplot.plot(np.arange(len(J_history)), J_history, lw=2)\n",
    "pyplot.xlabel('Numero de iteraciones')\n",
    "pyplot.ylabel('Costo J')\n",
    "\n",
    "pass"
   ]
  }
 ],
 "metadata": {
  "kernelspec": {
   "display_name": "Python 3",
   "language": "python",
   "name": "python3"
  },
  "language_info": {
   "codemirror_mode": {
    "name": "ipython",
    "version": 3
   },
   "file_extension": ".py",
   "mimetype": "text/x-python",
   "name": "python",
   "nbconvert_exporter": "python",
   "pygments_lexer": "ipython3",
   "version": "3.12.4"
  }
 },
 "nbformat": 4,
 "nbformat_minor": 2
}
