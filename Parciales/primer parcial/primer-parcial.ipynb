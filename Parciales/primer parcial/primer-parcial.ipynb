{
 "cells": [
  {
   "cell_type": "markdown",
   "metadata": {},
   "source": [
    "# Primer parcial\n",
    "Nombre: Vargas Lezano César Luis\n",
    "\n",
    "Carrera: Ingenieria de sistemas\n",
    "\n",
    "CU: 35-5303"
   ]
  },
  {
   "cell_type": "markdown",
   "metadata": {},
   "source": [
    "## Acerca del dataset\n",
    "El dataset cuenta con 31.9 millores de datos\n",
    "\n",
    "de loc cuales por temas de rendimiento y limitante se seleccionara 80000 datos y 20 columnas, las cuales serian:\n",
    "\n",
    "# Temática del Dataset: Calcular la cantidad de coronas de Clash Royale\n",
    "# Variables de Entrada: winner.totalcard.level, \n",
    "* winner.troop.count, \n",
    "* winner.structure.count, \n",
    "* winner.spell.count, \n",
    "* winner.common.count, \n",
    "* winner.rare.count, \n",
    "* winner.epic.count, \n",
    "* winner.legendary.count \n",
    "* winner.elixir.average\n",
    "* loser.crowns\n",
    "* loser.totalcard.level, \n",
    "* loser.troop.count, \n",
    "* loser.structure.count, \n",
    "* loser.spell.count, \n",
    "* loser.common.count, \n",
    "* loser.rare.count, \n",
    "* loser.epic.count, \n",
    "* loser.legendary.count \n",
    "* loser.elixir.average\n",
    "# Variables de Salida: \n",
    "* - winner.crowns"
   ]
  },
  {
   "cell_type": "markdown",
   "metadata": {},
   "source": [
    "# 1.- Inserte atributos que contengan, caracteres, texto, valores booleanos relacionados a la temática del dataset elegido."
   ]
  },
  {
   "cell_type": "markdown",
   "metadata": {},
   "source": [
    "Para poder realizar este paso se obta por insertar nuevas columnas con sus datos para cumplir de manera que pide el enunciado, de la siguiente manera:\n",
    "\n",
    "# Atributos caracteres\n",
    "Se usara 3 tipos de caracteres que son los \"tipos de carta\"los cuales tendran un significado o valor:\n",
    "* A = tropp\n",
    "* B = spell\n",
    "* C = structure\n",
    "\n",
    "# Atributo texto\n",
    "Se usara 2 tipos para esto, que serian la estrategia que usa el jugador, como puede ser:\n",
    "* Offensive\n",
    "* Defensive\n",
    "\n",
    "# Atributos booleanos\n",
    "Se usara true o false para poder determinar si el jugador uso cartas legendarias, y otro para determinar si el usuario obtuvo las 3 coronoas\n",
    "\n",
    "* Cartas legendarias\n",
    "* Obtuvo 3 coronas"
   ]
  },
  {
   "cell_type": "code",
   "execution_count": 1,
   "metadata": {},
   "outputs": [],
   "source": [
    "import pandas as pd\n",
    "import numpy as np\n",
    "\n",
    "# Cargar el dataset original\n",
    "ata = pd.read_csv('./BattlesStaging_01012021_WL_tagged.csv', usecols=[39,40,41,42,43,44,45,46,47,65,66,67,68,69,70,71,72,73,16,8], nrows=80000)\n",
    "\n",
    "# Definir las posibles categorías y valores\n",
    "strategy_types = ['Offensive', 'Defensive']\n",
    "card_types = ['A', 'B', 'C']\n",
    "booleans = [True, False]\n",
    "\n",
    "# Generar valores aleatorios para las nuevas columnas\n",
    "ata['winner.strategy_type'] = np.random.choice(strategy_types, len(ata))\n",
    "ata['loser.strategy_type'] = np.random.choice(strategy_types, len(ata))\n",
    "ata['winner.fav_card_type'] = np.random.choice(card_types, len(ata))\n",
    "ata['loser.fav_card_type'] = np.random.choice(card_types, len(ata))\n",
    "ata['winner.used_legendary'] = np.random.choice(booleans, len(ata))\n",
    "ata['loser.used_legendary'] = np.random.choice(booleans, len(ata))\n",
    "ata['winner.triple_crown_win'] = np.random.choice(booleans, len(ata))\n",
    "\n",
    "# Guardar el nuevo dataset sintético en un archivo CSV\n",
    "ata.to_csv('synthetic_dataset.csv', index=False)"
   ]
  }
 ],
 "metadata": {
  "kernelspec": {
   "display_name": "Python 3",
   "language": "python",
   "name": "python3"
  },
  "language_info": {
   "codemirror_mode": {
    "name": "ipython",
    "version": 3
   },
   "file_extension": ".py",
   "mimetype": "text/x-python",
   "name": "python",
   "nbconvert_exporter": "python",
   "pygments_lexer": "ipython3",
   "version": "3.12.4"
  }
 },
 "nbformat": 4,
 "nbformat_minor": 2
}
