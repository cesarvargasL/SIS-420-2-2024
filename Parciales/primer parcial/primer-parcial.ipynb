{
 "cells": [
  {
   "cell_type": "markdown",
   "metadata": {},
   "source": [
    "# Primer parcial\n",
    "Nombre: Vargas Lezano César Luis\n",
    "\n",
    "Carrera: Ingenieria de sistemas\n",
    "\n",
    "CU: 35-5303"
   ]
  },
  {
   "cell_type": "markdown",
   "metadata": {},
   "source": [
    "## Acerca del dataset\n",
    "El dataset cuenta con 31.9 millores de datos\n",
    "\n",
    "de loc cuales por temas de rendimiento y limitante se seleccionara 80000 datos y 20 columnas, las cuales serian:\n",
    "\n",
    "# Temática del Dataset: Calcular la cantidad de coronas de Clash Royale\n",
    "# Variables de Entrada: winner.totalcard.level, \n",
    "* winner.troop.count, \n",
    "* winner.structure.count, \n",
    "* winner.spell.count, \n",
    "* winner.common.count, \n",
    "* winner.rare.count, \n",
    "* winner.epic.count, \n",
    "* winner.legendary.count \n",
    "* winner.elixir.average\n",
    "* loser.crowns\n",
    "* loser.totalcard.level, \n",
    "* loser.troop.count, \n",
    "* loser.structure.count, \n",
    "* loser.spell.count, \n",
    "* loser.common.count, \n",
    "* loser.rare.count, \n",
    "* loser.epic.count, \n",
    "* loser.legendary.count \n",
    "* loser.elixir.average\n",
    "# Variables de Salida: \n",
    "* - winner.crowns"
   ]
  },
  {
   "cell_type": "markdown",
   "metadata": {},
   "source": [
    "# 1.- Inserte atributos que contengan, caracteres, texto, valores booleanos relacionados a la temática del dataset elegido."
   ]
  },
  {
   "cell_type": "markdown",
   "metadata": {},
   "source": [
    "Para poder realizar este paso se obta por insertar nuevas columnas con sus datos para cumplir de manera que pide el enunciado, de la siguiente manera:\n",
    "\n",
    "# Atributos caracteres\n",
    "Se usara 3 tipos de caracteres que son los \"tipos de carta\"los cuales tendran un significado o valor:\n",
    "* A = tropp\n",
    "* B = spell\n",
    "* C = structure\n",
    "\n",
    "# Atributo texto\n",
    "Se usara 2 tipos para esto, que serian la estrategia que usa el jugador, como puede ser:\n",
    "* Offensive\n",
    "* Defensive\n",
    "\n",
    "# Atributos booleanos\n",
    "Se usara true o false para poder determinar si el jugador uso cartas legendarias, y otro para determinar si el usuario obtuvo las 3 coronoas\n",
    "\n",
    "* Cartas legendarias\n",
    "* Obtuvo 3 coronas"
   ]
  },
  {
   "cell_type": "code",
   "execution_count": 1,
   "metadata": {},
   "outputs": [],
   "source": [
    "import pandas as pd\n",
    "import numpy as np\n",
    "\n",
    "# Cargar el dataset original\n",
    "data = pd.read_csv('./BattlesStaging_01012021_WL_tagged.csv', usecols=[39,40,41,42,43,44,45,46,47,65,66,67,68,69,70,71,72,73,16,8], nrows=80000)\n",
    "\n",
    "# Definir las posibles categorías y valores\n",
    "strategy_types = ['Offensive', 'Defensive']\n",
    "card_types = ['A', 'B', 'C']\n",
    "booleans = [True, False]\n",
    "\n",
    "# Generar valores aleatorios para las nuevas columnas\n",
    "data['winner.strategy_type'] = np.random.choice(strategy_types, len(data))\n",
    "data['loser.strategy_type'] = np.random.choice(strategy_types, len(data))\n",
    "data['winner.fav_card_type'] = np.random.choice(card_types, len(data))\n",
    "data['loser.fav_card_type'] = np.random.choice(card_types, len(data))\n",
    "data['winner.used_legendary'] = np.random.choice(booleans, len(data))\n",
    "data['loser.used_legendary'] = np.random.choice(booleans, len(data))\n",
    "data['winner.triple_crown_win'] = np.random.choice(booleans, len(data))\n",
    "\n",
    "# Guardar el nuevo dataset sintético en un archivo CSV\n",
    "data.to_csv('synthetic_dataset.csv', index=False)"
   ]
  },
  {
   "cell_type": "markdown",
   "metadata": {},
   "source": [
    "# 2.- Duplique los ejemplos del dataset considerando rangos y criterios que garanticen la consistencia del dataset."
   ]
  },
  {
   "cell_type": "markdown",
   "metadata": {},
   "source": [
    "verificando los valores actuales del dataset sintetico"
   ]
  },
  {
   "cell_type": "code",
   "execution_count": 5,
   "metadata": {},
   "outputs": [
    {
     "name": "stdout",
     "output_type": "stream",
     "text": [
      "   winner.crowns  loser.crowns  winner.totalcard.level  winner.troop.count  \\\n",
      "0            2.0           1.0                     104                   5   \n",
      "1            1.0           0.0                      99                   5   \n",
      "2            2.0           0.0                     104                   6   \n",
      "3            2.0           1.0                      80                   4   \n",
      "4            3.0           0.0                     104                   5   \n",
      "\n",
      "   winner.structure.count  winner.spell.count  winner.common.count  \\\n",
      "0                       1                   2                    3   \n",
      "1                       1                   2                    2   \n",
      "2                       0                   2                    2   \n",
      "3                       0                   4                    1   \n",
      "4                       1                   2                    3   \n",
      "\n",
      "   winner.rare.count  winner.epic.count  winner.legendary.count  ...  \\\n",
      "0                  2                  3                       0  ...   \n",
      "1                  2                  2                       2  ...   \n",
      "2                  1                  2                       3  ...   \n",
      "3                  1                  3                       3  ...   \n",
      "4                  4                  0                       1  ...   \n",
      "\n",
      "   loser.epic.count  loser.legendary.count  loser.elixir.average  \\\n",
      "0                 4                      2                 3.500   \n",
      "1                 2                      5                 4.250   \n",
      "2                 1                      1                 4.125   \n",
      "3                 2                      3                 3.750   \n",
      "4                 0                      2                 3.250   \n",
      "\n",
      "   winner.strategy_type  loser.strategy_type  winner.fav_card_type  \\\n",
      "0             Defensive            Offensive                     C   \n",
      "1             Defensive            Defensive                     B   \n",
      "2             Offensive            Defensive                     B   \n",
      "3             Offensive            Defensive                     C   \n",
      "4             Defensive            Defensive                     A   \n",
      "\n",
      "   loser.fav_card_type  winner.used_legendary  loser.used_legendary  \\\n",
      "0                    A                  False                 False   \n",
      "1                    B                   True                 False   \n",
      "2                    B                   True                  True   \n",
      "3                    A                  False                 False   \n",
      "4                    A                   True                 False   \n",
      "\n",
      "   winner.triple_crown_win  \n",
      "0                     True  \n",
      "1                     True  \n",
      "2                     True  \n",
      "3                    False  \n",
      "4                    False  \n",
      "\n",
      "[5 rows x 27 columns]\n"
     ]
    }
   ],
   "source": [
    "data = pd.read_csv('synthetic_dataset.csv')\n",
    "print(data.head())"
   ]
  },
  {
   "cell_type": "code",
   "execution_count": 6,
   "metadata": {},
   "outputs": [
    {
     "name": "stdout",
     "output_type": "stream",
     "text": [
      "<class 'pandas.core.frame.DataFrame'>\n",
      "RangeIndex: 80000 entries, 0 to 79999\n",
      "Data columns (total 27 columns):\n",
      " #   Column                   Non-Null Count  Dtype  \n",
      "---  ------                   --------------  -----  \n",
      " 0   winner.crowns            80000 non-null  float64\n",
      " 1   loser.crowns             80000 non-null  float64\n",
      " 2   winner.totalcard.level   80000 non-null  int64  \n",
      " 3   winner.troop.count       80000 non-null  int64  \n",
      " 4   winner.structure.count   80000 non-null  int64  \n",
      " 5   winner.spell.count       80000 non-null  int64  \n",
      " 6   winner.common.count      80000 non-null  int64  \n",
      " 7   winner.rare.count        80000 non-null  int64  \n",
      " 8   winner.epic.count        80000 non-null  int64  \n",
      " 9   winner.legendary.count   80000 non-null  int64  \n",
      " 10  winner.elixir.average    80000 non-null  float64\n",
      " 11  loser.totalcard.level    80000 non-null  int64  \n",
      " 12  loser.troop.count        80000 non-null  int64  \n",
      " 13  loser.structure.count    80000 non-null  int64  \n",
      " 14  loser.spell.count        80000 non-null  int64  \n",
      " 15  loser.common.count       80000 non-null  int64  \n",
      " 16  loser.rare.count         80000 non-null  int64  \n",
      " 17  loser.epic.count         80000 non-null  int64  \n",
      " 18  loser.legendary.count    80000 non-null  int64  \n",
      " 19  loser.elixir.average     80000 non-null  float64\n",
      " 20  winner.strategy_type     80000 non-null  object \n",
      " 21  loser.strategy_type      80000 non-null  object \n",
      " 22  winner.fav_card_type     80000 non-null  object \n",
      " 23  loser.fav_card_type      80000 non-null  object \n",
      " 24  winner.used_legendary    80000 non-null  bool   \n",
      " 25  loser.used_legendary     80000 non-null  bool   \n",
      " 26  winner.triple_crown_win  80000 non-null  bool   \n",
      "dtypes: bool(3), float64(4), int64(16), object(4)\n",
      "memory usage: 14.9+ MB\n",
      "None\n"
     ]
    }
   ],
   "source": [
    "print(data.info())"
   ]
  },
  {
   "cell_type": "markdown",
   "metadata": {},
   "source": [
    " Como se puede observar se cuenta con 80000 datos y las 26 columnas (contando desde 0)\n",
    "\n",
    " Ahora duplicando 80000 nuevos valores, sin que se repitan con los primeros 80000"
   ]
  },
  {
   "cell_type": "code",
   "execution_count": 8,
   "metadata": {},
   "outputs": [],
   "source": [
    "# Definir las posibles categorías y valores\n",
    "strategy_types = ['Offensive', 'Defensive']\n",
    "card_types = ['A', 'B', 'C']\n",
    "booleans = [True, False]\n",
    "\n",
    "# Número de filas que queremos generar\n",
    "num_new_rows = len(data)\n",
    "\n",
    "# Generar valores aleatorios para las nuevas columnas\n",
    "new_data = pd.DataFrame({\n",
    "    'winner.crowns': np.random.choice(data['winner.crowns'].unique(), num_new_rows),\n",
    "    'loser.crowns': np.random.choice(data['loser.crowns'].unique(), num_new_rows),\n",
    "    'winner.totalcard.level': np.random.choice(data['winner.totalcard.level'].unique(), num_new_rows),\n",
    "    'winner.troop.count': np.random.choice(data['winner.troop.count'].unique(), num_new_rows),\n",
    "    'winner.structure.count': np.random.choice(data['winner.structure.count'].unique(), num_new_rows),\n",
    "    'winner.spell.count': np.random.choice(data['winner.spell.count'].unique(), num_new_rows),\n",
    "    'winner.common.count': np.random.choice(data['winner.common.count'].unique(), num_new_rows),\n",
    "    'winner.rare.count': np.random.choice(data['winner.rare.count'].unique(), num_new_rows),\n",
    "    'winner.epic.count': np.random.choice(data['winner.epic.count'].unique(), num_new_rows),\n",
    "    'winner.legendary.count': np.random.choice(data['winner.legendary.count'].unique(), num_new_rows),\n",
    "    'winner.elixir.average': np.random.choice(data['winner.elixir.average'].unique(), num_new_rows),\n",
    "    'loser.totalcard.level': np.random.choice(data['loser.totalcard.level'].unique(), num_new_rows),\n",
    "    'loser.troop.count': np.random.choice(data['loser.troop.count'].unique(), num_new_rows),\n",
    "    'loser.structure.count': np.random.choice(data['loser.structure.count'].unique(), num_new_rows),\n",
    "    'loser.spell.count': np.random.choice(data['loser.spell.count'].unique(), num_new_rows),\n",
    "    'loser.common.count': np.random.choice(data['loser.common.count'].unique(), num_new_rows),\n",
    "    'loser.rare.count': np.random.choice(data['loser.rare.count'].unique(), num_new_rows),\n",
    "    'loser.epic.count': np.random.choice(data['loser.epic.count'].unique(), num_new_rows),\n",
    "    'loser.legendary.count': np.random.choice(data['loser.legendary.count'].unique(), num_new_rows),\n",
    "    'loser.elixir.average': np.random.choice(data['loser.elixir.average'].unique(), num_new_rows),\n",
    "    'winner.strategy_type': np.random.choice(strategy_types, num_new_rows),\n",
    "    'loser.strategy_type': np.random.choice(strategy_types, num_new_rows),\n",
    "    'winner.fav_card_type': np.random.choice(card_types, num_new_rows),\n",
    "    'loser.fav_card_type': np.random.choice(card_types, num_new_rows),\n",
    "    'winner.used_legendary': np.random.choice(booleans, num_new_rows),\n",
    "    'loser.used_legendary': np.random.choice(booleans, num_new_rows),\n",
    "    'winner.triple_crown_win': np.random.choice(booleans, num_new_rows)\n",
    "})\n",
    "\n",
    "# Concatenar los nuevos datos con los existentes\n",
    "data = pd.concat([data, new_data], ignore_index=True)\n",
    "\n",
    "# Guardar el dataset actualizado en el mismo archivo CSV\n",
    "data.to_csv('synthetic_dataset.csv', index=False)"
   ]
  },
  {
   "cell_type": "markdown",
   "metadata": {},
   "source": [
    "Verfificando que se hayan generado los nuevos valores correctamente"
   ]
  },
  {
   "cell_type": "code",
   "execution_count": 9,
   "metadata": {},
   "outputs": [
    {
     "name": "stdout",
     "output_type": "stream",
     "text": [
      "<class 'pandas.core.frame.DataFrame'>\n",
      "RangeIndex: 160000 entries, 0 to 159999\n",
      "Data columns (total 27 columns):\n",
      " #   Column                   Non-Null Count   Dtype  \n",
      "---  ------                   --------------   -----  \n",
      " 0   winner.crowns            160000 non-null  float64\n",
      " 1   loser.crowns             160000 non-null  float64\n",
      " 2   winner.totalcard.level   160000 non-null  int64  \n",
      " 3   winner.troop.count       160000 non-null  int64  \n",
      " 4   winner.structure.count   160000 non-null  int64  \n",
      " 5   winner.spell.count       160000 non-null  int64  \n",
      " 6   winner.common.count      160000 non-null  int64  \n",
      " 7   winner.rare.count        160000 non-null  int64  \n",
      " 8   winner.epic.count        160000 non-null  int64  \n",
      " 9   winner.legendary.count   160000 non-null  int64  \n",
      " 10  winner.elixir.average    160000 non-null  float64\n",
      " 11  loser.totalcard.level    160000 non-null  int64  \n",
      " 12  loser.troop.count        160000 non-null  int64  \n",
      " 13  loser.structure.count    160000 non-null  int64  \n",
      " 14  loser.spell.count        160000 non-null  int64  \n",
      " 15  loser.common.count       160000 non-null  int64  \n",
      " 16  loser.rare.count         160000 non-null  int64  \n",
      " 17  loser.epic.count         160000 non-null  int64  \n",
      " 18  loser.legendary.count    160000 non-null  int64  \n",
      " 19  loser.elixir.average     160000 non-null  float64\n",
      " 20  winner.strategy_type     160000 non-null  object \n",
      " 21  loser.strategy_type      160000 non-null  object \n",
      " 22  winner.fav_card_type     160000 non-null  object \n",
      " 23  loser.fav_card_type      160000 non-null  object \n",
      " 24  winner.used_legendary    160000 non-null  bool   \n",
      " 25  loser.used_legendary     160000 non-null  bool   \n",
      " 26  winner.triple_crown_win  160000 non-null  bool   \n",
      "dtypes: bool(3), float64(4), int64(16), object(4)\n",
      "memory usage: 29.8+ MB\n",
      "None\n"
     ]
    }
   ],
   "source": [
    "print(data.info())"
   ]
  },
  {
   "cell_type": "markdown",
   "metadata": {},
   "source": [
    "como se puede evidenciar pasamos de tener 80000 datoa a 160000 en sus 27 columnas y haciendo que no se repitan los nuevos datos generados"
   ]
  },
  {
   "cell_type": "markdown",
   "metadata": {},
   "source": [
    "# 3.- Crear una grafica representativa de los datos del dataset inicial y otra con los datos del dataset sintético generado."
   ]
  }
 ],
 "metadata": {
  "kernelspec": {
   "display_name": "Python 3",
   "language": "python",
   "name": "python3"
  },
  "language_info": {
   "codemirror_mode": {
    "name": "ipython",
    "version": 3
   },
   "file_extension": ".py",
   "mimetype": "text/x-python",
   "name": "python",
   "nbconvert_exporter": "python",
   "pygments_lexer": "ipython3",
   "version": "3.12.4"
  }
 },
 "nbformat": 4,
 "nbformat_minor": 2
}
